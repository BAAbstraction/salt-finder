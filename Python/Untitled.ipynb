{
 "cells": [
  {
   "cell_type": "code",
   "execution_count": 24,
   "id": "afeee3ac",
   "metadata": {},
   "outputs": [],
   "source": [
    "from web3 import Web3\n",
    "from web3.middleware import geth_poa_middleware\n",
    "from clickhouse_driver import Client\n",
    "from IPython.display import clear_output\n",
    "from tqdm import tqdm\n",
    "import requests\n",
    "import json\n",
    "import sys\n",
    "import numpy as np\n",
    "from datetime import datetime"
   ]
  },
  {
   "cell_type": "code",
   "execution_count": 2,
   "id": "8dda8158",
   "metadata": {},
   "outputs": [],
   "source": [
    "node_address = 'http://127.0.0.1:8545/'\n",
    "w3 = Web3(Web3.HTTPProvider(node_address))"
   ]
  },
  {
   "cell_type": "code",
   "execution_count": 51,
   "id": "2c551617",
   "metadata": {},
   "outputs": [
    {
     "data": {
      "text/plain": [
       "AttributeDict({'number': 3,\n",
       " 'hash': HexBytes('0xc82659b8899423e88062e5bbe73a72dd16037a08980b6efb10994278b6a49c83'),\n",
       " 'parentHash': HexBytes('0x0f88cb0d34d71cc54182eb093e7b73321857ce64cb04b28acda43e972b25cba7'),\n",
       " 'nonce': HexBytes('0x0000000000000000'),\n",
       " 'mixHash': HexBytes('0x941e24315e7def23adef19eaa877e897ff000a8314567f4d0f40cfac2f26aa5b'),\n",
       " 'sha3Uncles': HexBytes('0x1dcc4de8dec75d7aab85b567b6ccd41ad312451b948a7413f0a142fd40d49347'),\n",
       " 'logsBloom': HexBytes('0x00000000000000000000000000000000000000000000000000000000000000000000000000000000002000000010000000000000000000000000000010000000001000000000000020000000000000000004000001000000000000000000000000000040000000000000000000000000000000000000000000000000000800000000000000000000000000000000000000000000000000000000000200000000000000000000000000000000000000000000000000000000000000000000000000000040000000000000000000000000000000000000000000000000000000000000000000010000000000000000000000000000000000000000000000000000'),\n",
       " 'transactionsRoot': HexBytes('0x6d64930e5a42aeaf5c4a0ca2d1efb5712c307bbe8a689ea839d437bdb9a4e94f'),\n",
       " 'stateRoot': HexBytes('0x55406018901f325aeec960a5963e5f03a4514400f289c86d1fc0ec9c785981bb'),\n",
       " 'receiptsRoot': HexBytes('0x55c6178a354bd2cea4a64bbb1543249077cf27f942667646d168cba8f444c68b'),\n",
       " 'miner': '0xC014BA5EC014ba5ec014Ba5EC014ba5Ec014bA5E',\n",
       " 'difficulty': 0,\n",
       " 'totalDifficulty': 0,\n",
       " 'extraData': HexBytes('0x'),\n",
       " 'size': 2947,\n",
       " 'gasLimit': 30000000,\n",
       " 'gasUsed': 424170,\n",
       " 'timestamp': 1688778574,\n",
       " 'transactions': [HexBytes('0x8d660e8104a43e727afaed592f7d74894093bc655c722a6d113ecd84af41d265')],\n",
       " 'uncles': [],\n",
       " 'baseFeePerGas': 674359208,\n",
       " 'withdrawals': [],\n",
       " 'withdrawalsRoot': HexBytes('0x56e81f171bcc55a6ff8345e692c0f86e5b48e01b996cadc001622fb5e363b421')})"
      ]
     },
     "execution_count": 51,
     "metadata": {},
     "output_type": "execute_result"
    }
   ],
   "source": [
    "w3.eth.get_block('latest')"
   ]
  },
  {
   "cell_type": "code",
   "execution_count": 53,
   "id": "d37d6736",
   "metadata": {},
   "outputs": [
    {
     "data": {
      "text/plain": [
       "AttributeDict({'transactionHash': HexBytes('0x8d660e8104a43e727afaed592f7d74894093bc655c722a6d113ecd84af41d265'),\n",
       " 'transactionIndex': 0,\n",
       " 'blockHash': HexBytes('0xc82659b8899423e88062e5bbe73a72dd16037a08980b6efb10994278b6a49c83'),\n",
       " 'blockNumber': 3,\n",
       " 'from': '0xf39Fd6e51aad88F6F4ce6aB8827279cffFb92266',\n",
       " 'to': '0x5FbDB2315678afecb367f032d93F642f64180aa3',\n",
       " 'cumulativeGasUsed': 424170,\n",
       " 'gasUsed': 424170,\n",
       " 'contractAddress': None,\n",
       " 'logs': [AttributeDict({'removed': False,\n",
       "   'logIndex': 0,\n",
       "   'transactionIndex': 0,\n",
       "   'transactionHash': HexBytes('0x8d660e8104a43e727afaed592f7d74894093bc655c722a6d113ecd84af41d265'),\n",
       "   'blockHash': HexBytes('0xc82659b8899423e88062e5bbe73a72dd16037a08980b6efb10994278b6a49c83'),\n",
       "   'blockNumber': 3,\n",
       "   'address': '0x3d06Cf7A15fDdF07117a5A1B8D9ddF07059A1434',\n",
       "   'data': HexBytes('0x00000000000000000000000077777740120c1d679c83c53407f3da8325677753'),\n",
       "   'topics': [HexBytes('0xf40fcec21964ffb566044d083b4073f29f7f7929110ea19e1b3ebe375d89055e')]}),\n",
       "  AttributeDict({'removed': False,\n",
       "   'logIndex': 1,\n",
       "   'transactionIndex': 0,\n",
       "   'transactionHash': HexBytes('0x8d660e8104a43e727afaed592f7d74894093bc655c722a6d113ecd84af41d265'),\n",
       "   'blockHash': HexBytes('0xc82659b8899423e88062e5bbe73a72dd16037a08980b6efb10994278b6a49c83'),\n",
       "   'blockNumber': 3,\n",
       "   'address': '0x5FbDB2315678afecb367f032d93F642f64180aa3',\n",
       "   'data': HexBytes('0x0000000000000000000000003d06cf7a15fddf07117a5a1b8d9ddf07059a143400000000000000000000000000000000000000000000000000000000000be4dd'),\n",
       "   'topics': [HexBytes('0x94bfd9af14ef450884c8a7ddb5734e2e1e14e70a1c84f0801cc5a29e34d26428')]})],\n",
       " 'logsBloom': HexBytes('0x00000000000000000000000000000000000000000000000000000000000000000000000000000000002000000010000000000000000000000000000010000000001000000000000020000000000000000004000001000000000000000000000000000040000000000000000000000000000000000000000000000000000800000000000000000000000000000000000000000000000000000000000200000000000000000000000000000000000000000000000000000000000000000000000000000040000000000000000000000000000000000000000000000000000000000000000000010000000000000000000000000000000000000000000000000000'),\n",
       " 'type': 2,\n",
       " 'status': 1,\n",
       " 'effectiveGasPrice': 1674359208})"
      ]
     },
     "execution_count": 53,
     "metadata": {},
     "output_type": "execute_result"
    }
   ],
   "source": [
    "w3.eth.get_transaction_receipt('0x8d660e8104a43e727afaed592f7d74894093bc655c722a6d113ecd84af41d265')"
   ]
  },
  {
   "cell_type": "code",
   "execution_count": 54,
   "id": "e9e1dc29",
   "metadata": {},
   "outputs": [
    {
     "name": "stdout",
     "output_type": "stream",
     "text": [
      "0x77777740120c1d679c83c53407f3da8325677753 {'jsonrpc': '2.0', 'id': 1, 'result': '0x0000000000000000000000000000000000000000000000000000000000000001'}\n"
     ]
    }
   ],
   "source": [
    "headers = {\n",
    "    'Content-Type': 'application/json',\n",
    "}\n",
    "\n",
    "# data = '0x6d4ce63c'\n",
    "data = '0x3b7104f2'\n",
    "\n",
    "contract_address = ['0x84eA74d481Ee0A5332c457a4d796187F6Ba67fEB',\n",
    "                    '0x24389329b4f41c7d304216853cd135a8f57053f1',\n",
    "                    '0x185ee4d1dF2389366Ec2492c8F3A01Ed0C20E6B4']\n",
    "\n",
    "contract_address = ['0x77777740120c1d679c83c53407f3da8325677753']\n",
    "\n",
    "for contract in contract_address:\n",
    "    data = {\n",
    "          \"jsonrpc\": \"2.0\",\n",
    "          \"method\": \"eth_call\",\n",
    "          \"params\": [{\n",
    "            \"to\": contract,\n",
    "            \"data\": data}, hex(w3.eth.get_block('latest')['number'])],\n",
    "          \"id\": 1\n",
    "    }\n",
    "\n",
    "    response = requests.post(\n",
    "        node_address,\n",
    "        headers=headers,\n",
    "        data=json.dumps(data)\n",
    "    ).content\n",
    "\n",
    "    print(contract, json.loads(response))\n"
   ]
  },
  {
   "cell_type": "code",
   "execution_count": 28,
   "id": "04620adb",
   "metadata": {},
   "outputs": [
    {
     "data": {
      "text/plain": [
       "HexBytes('0x608060405234801561001057600080fd5b50600436106100355760003560e01c80627743601461003a5780633b7104f21461006a575b600080fd5b610054600480360381019061004f9190610244565b610088565b60405161006191906102ce565b60405180910390f35b6100726100e1565b60405161007f9190610305565b60405180910390f35b6000808251602084016000f09050803b6100a157600080fd5b7ff40fcec21964ffb566044d083b4073f29f7f7929110ea19e1b3ebe375d89055e816040516100d091906102ce565b60405180910390a180915050919050565b60006001905090565b6000604051905090565b600080fd5b600080fd5b600080fd5b600080fd5b6000601f19601f8301169050919050565b7f4e487b7100000000000000000000000000000000000000000000000000000000600052604160045260246000fd5b61015182610108565b810181811067ffffffffffffffff821117156101705761016f610119565b5b80604052505050565b60006101836100ea565b905061018f8282610148565b919050565b600067ffffffffffffffff8211156101af576101ae610119565b5b6101b882610108565b9050602081019050919050565b82818337600083830152505050565b60006101e76101e284610194565b610179565b90508281526020810184848401111561020357610202610103565b5b61020e8482856101c5565b509392505050565b600082601f83011261022b5761022a6100fe565b5b813561023b8482602086016101d4565b91505092915050565b60006020828403121561025a576102596100f4565b5b600082013567ffffffffffffffff811115610278576102776100f9565b5b61028484828501610216565b91505092915050565b600073ffffffffffffffffffffffffffffffffffffffff82169050919050565b60006102b88261028d565b9050919050565b6102c8816102ad565b82525050565b60006020820190506102e360008301846102bf565b92915050565b600060ff82169050919050565b6102ff816102e9565b82525050565b600060208201905061031a60008301846102f6565b9291505056fea26469706673582212208193bfba40e11e1438f96f20a8ac76ce3e89e7a30a0746381f9611568e7943d064736f6c63430008120033')"
      ]
     },
     "execution_count": 28,
     "metadata": {},
     "output_type": "execute_result"
    }
   ],
   "source": [
    "w3.eth.get_code('0x185ee4d1dF2389366Ec2492c8F3A01Ed0C20E6B4')"
   ]
  },
  {
   "cell_type": "code",
   "execution_count": null,
   "id": "703ead9d",
   "metadata": {},
   "outputs": [],
   "source": []
  }
 ],
 "metadata": {
  "kernelspec": {
   "display_name": "Python 3 (ipykernel)",
   "language": "python",
   "name": "python3"
  },
  "language_info": {
   "codemirror_mode": {
    "name": "ipython",
    "version": 3
   },
   "file_extension": ".py",
   "mimetype": "text/x-python",
   "name": "python",
   "nbconvert_exporter": "python",
   "pygments_lexer": "ipython3",
   "version": "3.11.1"
  }
 },
 "nbformat": 4,
 "nbformat_minor": 5
}
