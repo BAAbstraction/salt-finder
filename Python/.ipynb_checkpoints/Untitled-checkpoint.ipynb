{
 "cells": [
  {
   "cell_type": "code",
   "execution_count": 1,
   "id": "af2fa598",
   "metadata": {},
   "outputs": [],
   "source": [
    "from web3.auto import Web3\n",
    "from web3.middleware import geth_poa_middleware\n",
    "from clickhouse_driver import Client\n",
    "from IPython.display import clear_output\n",
    "from tqdm import tqdm\n",
    "import requests\n",
    "import json\n",
    "import sys\n",
    "import numpy as np\n",
    "from datetime import datetime"
   ]
  },
  {
   "cell_type": "code",
   "execution_count": 2,
   "id": "32e26be8",
   "metadata": {},
   "outputs": [],
   "source": [
    "node_address = 'http://127.0.0.1:8545/'\n",
    "w3 = Web3(Web3.HTTPProvider(node_address))"
   ]
  },
  {
   "cell_type": "code",
   "execution_count": 10,
   "id": "7e73778e",
   "metadata": {},
   "outputs": [
    {
     "data": {
      "text/plain": [
       "AttributeDict({'number': 18,\n",
       " 'hash': HexBytes('0x132d94ebf49e5a8828c3a408cd6ee93b29763b42d25bcf2713a25fdef963994f'),\n",
       " 'parentHash': HexBytes('0xd69ea9965e1f2c182be85312034b7af160128da543435fd10105a768ba5cfd33'),\n",
       " 'nonce': HexBytes('0x0000000000000000'),\n",
       " 'mixHash': HexBytes('0x6f73c95322c48791146a192ab1264e66b1407bb63143ac741c06b7061f9d8f33'),\n",
       " 'sha3Uncles': HexBytes('0x1dcc4de8dec75d7aab85b567b6ccd41ad312451b948a7413f0a142fd40d49347'),\n",
       " 'logsBloom': HexBytes('0x00000000000000000000000000000000000000000000000000000000000000000000000000000000002000000010000000000000000000000000000000000000001000000000000020000000000000000000000001000000000000000000000000000000000000000020000000000000000000000000000080000000000000000000000000000000000000000000000000000000000000000000000000000000000000000000000000200000000000000000000000000000000000000000000000000000000000000000000000000000000000000000000000000000000000000000000000010000010000000000010800000000000000000000000000000000'),\n",
       " 'transactionsRoot': HexBytes('0x488f8510a0e27441e828fe13f0275da030c217e5f1b5ce722469b1e9ec46139e'),\n",
       " 'stateRoot': HexBytes('0x815186a91c79bd2500a0c33869e08ad10d2eab5182a18eabd5d68b4e942b4b19'),\n",
       " 'receiptsRoot': HexBytes('0x9117491192c994add90990f5cd3b67929fdf9c0e0ef9c450e4f6180fb4d871c4'),\n",
       " 'miner': '0xC014BA5EC014ba5ec014Ba5EC014ba5Ec014bA5E',\n",
       " 'difficulty': 0,\n",
       " 'totalDifficulty': 0,\n",
       " 'extraData': HexBytes('0x'),\n",
       " 'size': 2724,\n",
       " 'gasLimit': 30000000,\n",
       " 'gasUsed': 355224,\n",
       " 'timestamp': 1688767996,\n",
       " 'transactions': [HexBytes('0xa8b90bf76d6185df983085fb930c7d537f4edcfaf7065eb59c1052a7ae8e0e4c')],\n",
       " 'uncles': [],\n",
       " 'baseFeePerGas': 95490411,\n",
       " 'withdrawals': [],\n",
       " 'withdrawalsRoot': HexBytes('0x56e81f171bcc55a6ff8345e692c0f86e5b48e01b996cadc001622fb5e363b421')})"
      ]
     },
     "execution_count": 10,
     "metadata": {},
     "output_type": "execute_result"
    }
   ],
   "source": [
    "w3.eth.get_block('latest')"
   ]
  },
  {
   "cell_type": "code",
   "execution_count": 11,
   "id": "b17269e1",
   "metadata": {},
   "outputs": [
    {
     "data": {
      "text/plain": [
       "AttributeDict({'transactionHash': HexBytes('0xa8b90bf76d6185df983085fb930c7d537f4edcfaf7065eb59c1052a7ae8e0e4c'),\n",
       " 'transactionIndex': 0,\n",
       " 'blockHash': HexBytes('0x132d94ebf49e5a8828c3a408cd6ee93b29763b42d25bcf2713a25fdef963994f'),\n",
       " 'blockNumber': 18,\n",
       " 'from': '0xf39Fd6e51aad88F6F4ce6aB8827279cffFb92266',\n",
       " 'to': '0x959922bE3CAee4b8Cd9a407cc3ac1C251C2007B1',\n",
       " 'cumulativeGasUsed': 355224,\n",
       " 'gasUsed': 355224,\n",
       " 'contractAddress': None,\n",
       " 'logs': [AttributeDict({'removed': False,\n",
       "   'logIndex': 0,\n",
       "   'transactionIndex': 0,\n",
       "   'transactionHash': HexBytes('0xa8b90bf76d6185df983085fb930c7d537f4edcfaf7065eb59c1052a7ae8e0e4c'),\n",
       "   'blockHash': HexBytes('0x132d94ebf49e5a8828c3a408cd6ee93b29763b42d25bcf2713a25fdef963994f'),\n",
       "   'blockNumber': 18,\n",
       "   'address': '0x6C358C62B0CC20dcE04EBc0175B8493A1631D9e2',\n",
       "   'data': HexBytes('0x000000000000000000000000c21d487b0baad3838d1b733071ebd09c56785350'),\n",
       "   'topics': [HexBytes('0xf40fcec21964ffb566044d083b4073f29f7f7929110ea19e1b3ebe375d89055e')]}),\n",
       "  AttributeDict({'removed': False,\n",
       "   'logIndex': 1,\n",
       "   'transactionIndex': 0,\n",
       "   'transactionHash': HexBytes('0xa8b90bf76d6185df983085fb930c7d537f4edcfaf7065eb59c1052a7ae8e0e4c'),\n",
       "   'blockHash': HexBytes('0x132d94ebf49e5a8828c3a408cd6ee93b29763b42d25bcf2713a25fdef963994f'),\n",
       "   'blockNumber': 18,\n",
       "   'address': '0x959922bE3CAee4b8Cd9a407cc3ac1C251C2007B1',\n",
       "   'data': HexBytes('0x0000000000000000000000006c358c62b0cc20dce04ebc0175b8493a1631d9e20000000000000000000000000000000000000000000000000000000000000000'),\n",
       "   'topics': [HexBytes('0x94bfd9af14ef450884c8a7ddb5734e2e1e14e70a1c84f0801cc5a29e34d26428')]})],\n",
       " 'logsBloom': HexBytes('0x00000000000000000000000000000000000000000000000000000000000000000000000000000000002000000010000000000000000000000000000000000000001000000000000020000000000000000000000001000000000000000000000000000000000000000020000000000000000000000000000080000000000000000000000000000000000000000000000000000000000000000000000000000000000000000000000000200000000000000000000000000000000000000000000000000000000000000000000000000000000000000000000000000000000000000000000000010000010000000000010800000000000000000000000000000000'),\n",
       " 'type': 2,\n",
       " 'status': 1,\n",
       " 'effectiveGasPrice': 1095490411})"
      ]
     },
     "execution_count": 11,
     "metadata": {},
     "output_type": "execute_result"
    }
   ],
   "source": [
    "w3.eth.get_transaction_receipt('0xa8b90bf76d6185df983085fb930c7d537f4edcfaf7065eb59c1052a7ae8e0e4c')"
   ]
  },
  {
   "cell_type": "code",
   "execution_count": 15,
   "id": "a21c8d87",
   "metadata": {},
   "outputs": [
    {
     "name": "stdout",
     "output_type": "stream",
     "text": [
      "0xE6E340D132b5f46d1e472DebcD681B2aBc16e57E b'{\"jsonrpc\":\"2.0\",\"id\":1,\"error\":{\"code\":-32603,\"message\":\"Error: Transaction reverted: function selector was not recognized and there\\'s no fallback function\",\"data\":{\"message\":\"Error: Transaction reverted: function selector was not recognized and there\\'s no fallback function\",\"data\":\"0x\"}}}'\n",
      "0x76ec6687d477f0091250704ef33cc5097ed84583 b'{\"jsonrpc\":\"2.0\",\"id\":1,\"error\":{\"code\":-32602,\"message\":\"Errors encountered in param 0: Invalid value {\\\\\"jsonrpc\\\\\":\\\\\"2.0\\\\\",\\\\\"method\\\\\":\\\\\"eth_call\\\\\",\\\\\"params\\\\\":[{\\\\\"to\\\\\":\\\\\"0xE6E340D132b5f46d1e472DebcD681B2aBc16e57E\\\\\",\\\\\"data\\\\\":\\\\\"0x6d4ce63c\\\\\"},\\\\\"0x20\\\\\"],\\\\\"id\\\\\":1} supplied to : RpcCallRequest/data: DATA | undefined\",\"data\":{\"message\":\"Errors encountered in param 0: Invalid value {\\\\\"jsonrpc\\\\\":\\\\\"2.0\\\\\",\\\\\"method\\\\\":\\\\\"eth_call\\\\\",\\\\\"params\\\\\":[{\\\\\"to\\\\\":\\\\\"0xE6E340D132b5f46d1e472DebcD681B2aBc16e57E\\\\\",\\\\\"data\\\\\":\\\\\"0x6d4ce63c\\\\\"},\\\\\"0x20\\\\\"],\\\\\"id\\\\\":1} supplied to : RpcCallRequest/data: DATA | undefined\"}}}'\n",
      "0xc7582C4A54E5E55BE2316CdeAbdD4b352f6D68d2 b'{\"jsonrpc\":\"2.0\",\"id\":1,\"error\":{\"code\":-32602,\"message\":\"Errors encountered in param 0: Invalid value {\\\\\"jsonrpc\\\\\":\\\\\"2.0\\\\\",\\\\\"method\\\\\":\\\\\"eth_call\\\\\",\\\\\"params\\\\\":[{\\\\\"to\\\\\":\\\\\"0x76ec6687d477f0091250704ef33cc5097ed84583\\\\\",\\\\\"data\\\\\":{\\\\\"jsonrpc\\\\\":\\\\\"2.0\\\\\",\\\\\"method\\\\\":\\\\\"eth_call\\\\\",\\\\\"params\\\\\":[{\\\\\"to\\\\\":\\\\\"0xE6E340D132b5f46d1e472DebcD681B2aBc16e57E\\\\\",\\\\\"data\\\\\":\\\\\"0x6d4ce63c\\\\\"},\\\\\"0x20\\\\\"],\\\\\"id\\\\\":1}},\\\\\"0x20\\\\\"],\\\\\"id\\\\\":1} supplied to : RpcCallRequest/data: DATA | undefined\",\"data\":{\"message\":\"Errors encountered in param 0: Invalid value {\\\\\"jsonrpc\\\\\":\\\\\"2.0\\\\\",\\\\\"method\\\\\":\\\\\"eth_call\\\\\",\\\\\"params\\\\\":[{\\\\\"to\\\\\":\\\\\"0x76ec6687d477f0091250704ef33cc5097ed84583\\\\\",\\\\\"data\\\\\":{\\\\\"jsonrpc\\\\\":\\\\\"2.0\\\\\",\\\\\"method\\\\\":\\\\\"eth_call\\\\\",\\\\\"params\\\\\":[{\\\\\"to\\\\\":\\\\\"0xE6E340D132b5f46d1e472DebcD681B2aBc16e57E\\\\\",\\\\\"data\\\\\":\\\\\"0x6d4ce63c\\\\\"},\\\\\"0x20\\\\\"],\\\\\"id\\\\\":1}},\\\\\"0x20\\\\\"],\\\\\"id\\\\\":1} supplied to : RpcCallRequest/data: DATA | undefined\"}}}'\n"
     ]
    }
   ],
   "source": [
    "headers = {\n",
    "    'Content-Type': 'application/json',\n",
    "}\n",
    "\n",
    "data = '0x6d4ce63c'\n",
    "\n",
    "contract_address = ['0xE6E340D132b5f46d1e472DebcD681B2aBc16e57E',\n",
    "                    '0x76ec6687d477f0091250704ef33cc5097ed84583',\n",
    "                    '0xc7582C4A54E5E55BE2316CdeAbdD4b352f6D68d2']\n",
    "\n",
    "for contract in contract_address:\n",
    "    data = {\n",
    "          \"jsonrpc\": \"2.0\",\n",
    "          \"method\": \"eth_call\",\n",
    "          \"params\": [{\n",
    "            \"to\": contract,\n",
    "            \"data\": data}, hex(w3.eth.get_block('latest')['number'])],\n",
    "          \"id\": 1\n",
    "    }\n",
    "\n",
    "    response = requests.post(\n",
    "        node_address,\n",
    "        headers=headers,\n",
    "        data=json.dumps(data)\n",
    "    ).content\n",
    "\n",
    "    print(contract, json.loads(response))\n"
   ]
  },
  {
   "cell_type": "code",
   "execution_count": 14,
   "id": "adfa3ce2",
   "metadata": {},
   "outputs": [
    {
     "data": {
      "text/plain": [
       "b'{\"jsonrpc\":\"2.0\",\"id\":1,\"error\":{\"code\":-32603,\"message\":\"Error: Transaction reverted: function selector was not recognized and there\\'s no fallback function\",\"data\":{\"message\":\"Error: Transaction reverted: function selector was not recognized and there\\'s no fallback function\",\"data\":\"0x\"}}}'"
      ]
     },
     "execution_count": 14,
     "metadata": {},
     "output_type": "execute_result"
    }
   ],
   "source": [
    "response"
   ]
  },
  {
   "cell_type": "code",
   "execution_count": null,
   "id": "36486d0d",
   "metadata": {},
   "outputs": [],
   "source": []
  }
 ],
 "metadata": {
  "kernelspec": {
   "display_name": "Python 3 (ipykernel)",
   "language": "python",
   "name": "python3"
  },
  "language_info": {
   "codemirror_mode": {
    "name": "ipython",
    "version": 3
   },
   "file_extension": ".py",
   "mimetype": "text/x-python",
   "name": "python",
   "nbconvert_exporter": "python",
   "pygments_lexer": "ipython3",
   "version": "3.11.1"
  }
 },
 "nbformat": 4,
 "nbformat_minor": 5
}
